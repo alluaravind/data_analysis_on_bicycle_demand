{
 "cells": [
  {
   "cell_type": "code",
   "execution_count": 25,
   "metadata": {},
   "outputs": [],
   "source": [
    "import pandas as pd\n",
    "import matplotlib.pyplot as plt\n",
    "import numpy as np\n",
    "import re\n",
    "import nltk"
   ]
  },
  {
   "cell_type": "code",
   "execution_count": 26,
   "metadata": {},
   "outputs": [],
   "source": [
    "df_train = pd.read_csv('train.csv')\n",
    "df_test= pd.read_csv('test.csv')"
   ]
  },
  {
   "cell_type": "code",
   "execution_count": 50,
   "metadata": {},
   "outputs": [
    {
     "data": {
      "text/html": [
       "<div>\n",
       "<style scoped>\n",
       "    .dataframe tbody tr th:only-of-type {\n",
       "        vertical-align: middle;\n",
       "    }\n",
       "\n",
       "    .dataframe tbody tr th {\n",
       "        vertical-align: top;\n",
       "    }\n",
       "\n",
       "    .dataframe thead th {\n",
       "        text-align: right;\n",
       "    }\n",
       "</style>\n",
       "<table border=\"1\" class=\"dataframe\">\n",
       "  <thead>\n",
       "    <tr style=\"text-align: right;\">\n",
       "      <th></th>\n",
       "      <th>datetime</th>\n",
       "      <th>season</th>\n",
       "      <th>holiday</th>\n",
       "      <th>workingday</th>\n",
       "      <th>weather</th>\n",
       "      <th>temp</th>\n",
       "      <th>atemp</th>\n",
       "      <th>humidity</th>\n",
       "      <th>windspeed</th>\n",
       "      <th>casual</th>\n",
       "      <th>registered</th>\n",
       "      <th>count</th>\n",
       "      <th>year</th>\n",
       "      <th>month</th>\n",
       "      <th>hour</th>\n",
       "      <th>week_number</th>\n",
       "      <th>day_of_week</th>\n",
       "    </tr>\n",
       "  </thead>\n",
       "  <tbody>\n",
       "    <tr>\n",
       "      <th>0</th>\n",
       "      <td>2011-01-01 00:00:00</td>\n",
       "      <td>1</td>\n",
       "      <td>0</td>\n",
       "      <td>0</td>\n",
       "      <td>1</td>\n",
       "      <td>9.84</td>\n",
       "      <td>14.395</td>\n",
       "      <td>81</td>\n",
       "      <td>0.0</td>\n",
       "      <td>3</td>\n",
       "      <td>13</td>\n",
       "      <td>16</td>\n",
       "      <td>2011</td>\n",
       "      <td>1</td>\n",
       "      <td>0</td>\n",
       "      <td>52</td>\n",
       "      <td>5</td>\n",
       "    </tr>\n",
       "    <tr>\n",
       "      <th>1</th>\n",
       "      <td>2011-01-01 01:00:00</td>\n",
       "      <td>1</td>\n",
       "      <td>0</td>\n",
       "      <td>0</td>\n",
       "      <td>1</td>\n",
       "      <td>9.02</td>\n",
       "      <td>13.635</td>\n",
       "      <td>80</td>\n",
       "      <td>0.0</td>\n",
       "      <td>8</td>\n",
       "      <td>32</td>\n",
       "      <td>40</td>\n",
       "      <td>2011</td>\n",
       "      <td>1</td>\n",
       "      <td>1</td>\n",
       "      <td>52</td>\n",
       "      <td>5</td>\n",
       "    </tr>\n",
       "    <tr>\n",
       "      <th>2</th>\n",
       "      <td>2011-01-01 02:00:00</td>\n",
       "      <td>1</td>\n",
       "      <td>0</td>\n",
       "      <td>0</td>\n",
       "      <td>1</td>\n",
       "      <td>9.02</td>\n",
       "      <td>13.635</td>\n",
       "      <td>80</td>\n",
       "      <td>0.0</td>\n",
       "      <td>5</td>\n",
       "      <td>27</td>\n",
       "      <td>32</td>\n",
       "      <td>2011</td>\n",
       "      <td>1</td>\n",
       "      <td>2</td>\n",
       "      <td>52</td>\n",
       "      <td>5</td>\n",
       "    </tr>\n",
       "    <tr>\n",
       "      <th>3</th>\n",
       "      <td>2011-01-01 03:00:00</td>\n",
       "      <td>1</td>\n",
       "      <td>0</td>\n",
       "      <td>0</td>\n",
       "      <td>1</td>\n",
       "      <td>9.84</td>\n",
       "      <td>14.395</td>\n",
       "      <td>75</td>\n",
       "      <td>0.0</td>\n",
       "      <td>3</td>\n",
       "      <td>10</td>\n",
       "      <td>13</td>\n",
       "      <td>2011</td>\n",
       "      <td>1</td>\n",
       "      <td>3</td>\n",
       "      <td>52</td>\n",
       "      <td>5</td>\n",
       "    </tr>\n",
       "    <tr>\n",
       "      <th>4</th>\n",
       "      <td>2011-01-01 04:00:00</td>\n",
       "      <td>1</td>\n",
       "      <td>0</td>\n",
       "      <td>0</td>\n",
       "      <td>1</td>\n",
       "      <td>9.84</td>\n",
       "      <td>14.395</td>\n",
       "      <td>75</td>\n",
       "      <td>0.0</td>\n",
       "      <td>0</td>\n",
       "      <td>1</td>\n",
       "      <td>1</td>\n",
       "      <td>2011</td>\n",
       "      <td>1</td>\n",
       "      <td>4</td>\n",
       "      <td>52</td>\n",
       "      <td>5</td>\n",
       "    </tr>\n",
       "  </tbody>\n",
       "</table>\n",
       "</div>"
      ],
      "text/plain": [
       "              datetime  season  holiday  workingday  weather  temp   atemp  \\\n",
       "0  2011-01-01 00:00:00       1        0           0        1  9.84  14.395   \n",
       "1  2011-01-01 01:00:00       1        0           0        1  9.02  13.635   \n",
       "2  2011-01-01 02:00:00       1        0           0        1  9.02  13.635   \n",
       "3  2011-01-01 03:00:00       1        0           0        1  9.84  14.395   \n",
       "4  2011-01-01 04:00:00       1        0           0        1  9.84  14.395   \n",
       "\n",
       "   humidity  windspeed  casual  registered  count  year  month  hour  \\\n",
       "0        81        0.0       3          13     16  2011      1     0   \n",
       "1        80        0.0       8          32     40  2011      1     1   \n",
       "2        80        0.0       5          27     32  2011      1     2   \n",
       "3        75        0.0       3          10     13  2011      1     3   \n",
       "4        75        0.0       0           1      1  2011      1     4   \n",
       "\n",
       "  week_number  day_of_week  \n",
       "0          52            5  \n",
       "1          52            5  \n",
       "2          52            5  \n",
       "3          52            5  \n",
       "4          52            5  "
      ]
     },
     "execution_count": 50,
     "metadata": {},
     "output_type": "execute_result"
    }
   ],
   "source": [
    "from datetime import datetime\n",
    " \n",
    "year = lambda x: datetime.strptime(x, \"%Y-%m-%d %H:%M:%S\" ).year\n",
    "df_train['year'] = df_train['datetime'].map(year)\n",
    "month = lambda x: datetime.strptime(x, \"%Y-%m-%d %H:%M:%S\" ).month\n",
    "df_train['month'] = df_train['datetime'].map(month)\n",
    "hour = lambda x: datetime.strptime(x, \"%Y-%m-%d %H:%M:%S\" ).hour\n",
    "df_train['hour'] = df_train['datetime'].map(hour)\n",
    "week_number = lambda x: datetime.strptime(x, \"%Y-%m-%d %H:%M:%S\" ).strftime('%V')\n",
    "df_train['week_number'] = df_train['datetime'].map(week_number)\n",
    "day_of_week = lambda x: datetime.strptime(x, \"%Y-%m-%d %H:%M:%S\" ).weekday()\n",
    "df_train['day_of_week'] = df_train['datetime'].map(day_of_week)\n",
    "\n",
    "year = lambda x: datetime.strptime(x, \"%Y-%m-%d %H:%M:%S\" ).year\n",
    "df_test['year'] = df_test['datetime'].map(year)\n",
    "month = lambda x: datetime.strptime(x, \"%Y-%m-%d %H:%M:%S\" ).month\n",
    "df_test['month'] = df_test['datetime'].map(month)\n",
    "hour = lambda x: datetime.strptime(x, \"%Y-%m-%d %H:%M:%S\" ).hour\n",
    "df_test['hour'] = df_test['datetime'].map(hour)\n",
    "week_number = lambda x: datetime.strptime(x, \"%Y-%m-%d %H:%M:%S\" ).strftime('%V')\n",
    "df_test['week_number'] = df_test['datetime'].map(week_number)\n",
    "day_of_week = lambda x: datetime.strptime(x, \"%Y-%m-%d %H:%M:%S\" ).weekday()\n",
    "df_test['day_of_week'] = df_test['datetime'].map(day_of_week)\n",
    "\n",
    "df_train.head()"
   ]
  },
  {
   "cell_type": "code",
   "execution_count": 53,
   "metadata": {},
   "outputs": [],
   "source": [
    "day_part=[]\n",
    "for i in df_train['hour']:\n",
    "    if i>=0 and i<6:\n",
    "        day_part.append(1)\n",
    "    elif i>=6 and i<12:\n",
    "        day_part.append(2)\n",
    "    elif i>=12 and i<18:\n",
    "        day_part.append(3)\n",
    "    elif i>=18 and i<=23:\n",
    "        day_part.append(4)\n",
    "        \n",
    "df_train['day_part']=pd.DataFrame(day_part)       "
   ]
  },
  {
   "cell_type": "code",
   "execution_count": 54,
   "metadata": {},
   "outputs": [],
   "source": [
    "day_part=[]\n",
    "for i in df_test['hour']:\n",
    "    if i>=0 and i<6:\n",
    "        day_part.append(1)\n",
    "    elif i>=6 and i<12:\n",
    "        day_part.append(2)\n",
    "    elif i>=12 and i<18:\n",
    "        day_part.append(3)\n",
    "    elif i>=18 and i<=23:\n",
    "        day_part.append(4)\n",
    "        \n",
    "df_test['day_part']=pd.DataFrame(day_part)\n"
   ]
  },
  {
   "cell_type": "code",
   "execution_count": 55,
   "metadata": {},
   "outputs": [
    {
     "data": {
      "text/plain": [
       "'day_of_week = lambda x: datetime.strptime(x, \"%Y-%m-%d %H:%M:%S\" ).weekday()\\nmonth = lambda x: datetime.strptime(x, \"%Y-%m-%d %H:%M:%S\" ).month\\nweek_number = lambda x: datetime.strptime(x, \"%Y-%m-%d %H:%M:%S\" ).strftime(\\'%V\\')'"
      ]
     },
     "execution_count": 55,
     "metadata": {},
     "output_type": "execute_result"
    }
   ],
   "source": [
    "\"\"\"day_of_week = lambda x: datetime.strptime(x, \"%Y-%m-%d %H:%M:%S\" ).weekday()\n",
    "month = lambda x: datetime.strptime(x, \"%Y-%m-%d %H:%M:%S\" ).month\n",
    "week_number = lambda x: datetime.strptime(x, \"%Y-%m-%d %H:%M:%S\" ).strftime('%V')\"\"\""
   ]
  },
  {
   "cell_type": "code",
   "execution_count": 56,
   "metadata": {},
   "outputs": [],
   "source": [
    "X_train = df_train[['day_part','week_number','day_of_week','hour','season','holiday','workingday','weather','temp','atemp','humidity','windspeed']]\n",
    "y_train= df_train['count']\n",
    "X_test_data= df_test[['day_part','week_number','day_of_week','hour','season','holiday','workingday','weather','temp','atemp','humidity','windspeed']]\n"
   ]
  },
  {
   "cell_type": "code",
   "execution_count": 62,
   "metadata": {
    "scrolled": true
   },
   "outputs": [],
   "source": [
    "from sklearn.ensemble import RandomForestRegressor\n",
    "from sklearn.tree import DecisionTreeClassifier\n",
    "dt_rf = DecisionTreeClassifier(random_state=0)\n",
    "regr_rf = RandomForestRegressor(n_estimators=200,max_depth=3,random_state=0)\n",
    "clf_dtree=dt_rf.fit(X_train, y_train)\n",
    "clf = regr_rf.fit(X_train, y_train)\n"
   ]
  },
  {
   "cell_type": "code",
   "execution_count": 58,
   "metadata": {},
   "outputs": [],
   "source": [
    "df_test['predicted_count'] = [data for data in dt_rf.predict(X_test_data)]"
   ]
  },
  {
   "cell_type": "code",
   "execution_count": 59,
   "metadata": {},
   "outputs": [],
   "source": [
    "writer = pd.ExcelWriter('predicted_data_dtree.xlsx')\n",
    "df_test.to_excel(writer,'Sheet1')\n",
    "writer.save()"
   ]
  },
  {
   "cell_type": "code",
   "execution_count": 60,
   "metadata": {},
   "outputs": [],
   "source": [
    "import pickle;\n",
    "# open a file, where you ant to store the data\n",
    "file = open('important_dtree', 'wb')\n",
    "\n",
    "# dump information to that file\n",
    "pickle.dump(clf_dtree, file)\n",
    "\n",
    "# close the file\n",
    "file.close()\n",
    "\n",
    "# open a file, where you stored the pickled data\n",
    "file = open('important_dtree', 'rb')\n",
    "\n",
    "# dump information to that file\n",
    "clf2 = pickle.load(file)\n",
    "\n",
    "# close the file\n",
    "file.close()\n"
   ]
  },
  {
   "cell_type": "code",
   "execution_count": 61,
   "metadata": {},
   "outputs": [
    {
     "data": {
      "text/plain": [
       "array([ 44.5544531 ,  33.99507288,  16.37951814, ..., 123.72632248,\n",
       "       123.72632248, 123.72632248])"
      ]
     },
     "execution_count": 61,
     "metadata": {},
     "output_type": "execute_result"
    }
   ],
   "source": [
    "#we can also use clf.predict for predicting data after loading model into pickel file\n",
    "clf.predict(X_test_data)"
   ]
  },
  {
   "cell_type": "code",
   "execution_count": 63,
   "metadata": {},
   "outputs": [
    {
     "data": {
      "text/plain": [
       "array([13,  6,  4, ..., 97, 59, 41], dtype=int64)"
      ]
     },
     "execution_count": 63,
     "metadata": {},
     "output_type": "execute_result"
    }
   ],
   "source": [
    "#predicting using decision tree classifier\n",
    "clf_dtree.predict(X_test_data)"
   ]
  },
  {
   "cell_type": "code",
   "execution_count": null,
   "metadata": {},
   "outputs": [],
   "source": []
  }
 ],
 "metadata": {
  "kernelspec": {
   "display_name": "Python 3",
   "language": "python",
   "name": "python3"
  },
  "language_info": {
   "codemirror_mode": {
    "name": "ipython",
    "version": 3
   },
   "file_extension": ".py",
   "mimetype": "text/x-python",
   "name": "python",
   "nbconvert_exporter": "python",
   "pygments_lexer": "ipython3",
   "version": "3.7.0"
  }
 },
 "nbformat": 4,
 "nbformat_minor": 2
}
